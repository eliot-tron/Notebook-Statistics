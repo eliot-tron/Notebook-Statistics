{
 "cells": [
  {
   "attachments": {},
   "cell_type": "markdown",
   "metadata": {},
   "source": [
    "# Cours de Statistique: Chapitre 4"
   ]
  },
  {
   "attachments": {},
   "cell_type": "markdown",
   "metadata": {},
   "source": [
    "Intervalles de confiance et tests"
   ]
  },
  {
   "cell_type": "code",
   "execution_count": 1,
   "metadata": {},
   "outputs": [],
   "source": [
    "# Uncomment the following and run if not installed.\n",
    "# %pip install -q ipywidgets"
   ]
  },
  {
   "cell_type": "code",
   "execution_count": 40,
   "metadata": {},
   "outputs": [],
   "source": [
    "import numpy as np\n",
    "from matplotlib import pyplot as plt\n",
    "from scipy.stats import norm\n",
    "from scipy.special import ndtri\n",
    "\n",
    "from ipywidgets import interactive, fixed, widgets"
   ]
  },
  {
   "attachments": {},
   "cell_type": "markdown",
   "metadata": {},
   "source": [
    "## Intervalles de confiance"
   ]
  },
  {
   "attachments": {},
   "cell_type": "markdown",
   "metadata": {},
   "source": [
    "### Code"
   ]
  },
  {
   "cell_type": "code",
   "execution_count": 3,
   "metadata": {},
   "outputs": [],
   "source": [
    "def distribution_bernoulli(x, theta):\n",
    "    if x == 0:\n",
    "        return 1 - theta\n",
    "    if x == 1:\n",
    "        return theta\n",
    "    return 0\n",
    "\n",
    "def distribution_gaussienne(x: float, moyenne=0., variance=1.):\n",
    "    return np.exp(-(x - moyenne)**2 / (2 * variance)) / (np.sqrt(2 * np.pi * variance))\n",
    "\n",
    "def distribution_poisson(k, theta=1.):\n",
    "    assert theta > 0\n",
    "    if k < 0:\n",
    "        return 0\n",
    "    k = int(k)\n",
    "    return np.exp(-theta) * theta**k / np.math.factorial(k)\n",
    "\n",
    "def distribution_uniforme(x: float, theta=1.):\n",
    "    if np.abs(theta) < 1e-14:\n",
    "        return 0. if np.abs(x) > 0 else 1.\n",
    "    return (1 if 0 <= x <= theta else 0) / (theta)\n",
    "\n",
    "def distribution_exponentielle(x, theta=1.):\n",
    "    assert theta > 0\n",
    "    if x < 0:\n",
    "        return 0\n",
    "    return theta * np.exp(-theta * x)"
   ]
  },
  {
   "cell_type": "code",
   "execution_count": 18,
   "metadata": {},
   "outputs": [],
   "source": [
    "def plot_gaussienne(moyenne, variance=1., show_moyenne=True, show_variance=True, style=\"b-\"):\n",
    "    X = np.linspace(-2., 2., 1000)\n",
    "    plt.plot(X, distribution_gaussienne(X, moyenne, variance), style)\n",
    "    if show_moyenne:\n",
    "        plt.annotate(text=r\"$\\mu$\",  ha = \"center\", va=\"bottom\", xy=(moyenne, distribution_gaussienne(moyenne, moyenne, variance)), xytext=(moyenne, 0.), arrowprops={'arrowstyle': '-', 'color': 'green', 'ls': '-'}, color = 'green')\n",
    "    if show_variance:\n",
    "        plt.annotate(text=\"\", xy=(moyenne - variance, distribution_gaussienne(moyenne - variance, moyenne, variance)), xytext=(moyenne + variance, distribution_gaussienne(moyenne + variance, moyenne, variance)), arrowprops={'arrowstyle': '<->', 'color': 'red', 'ls': '--'})\n",
    "        plt.text(moyenne, distribution_gaussienne(moyenne+variance, moyenne, variance), r\"$\\sigma^2$\", ha=\"center\", va=\"center\", color='red', bbox={'boxstyle': 'square', 'fc':'w','ec': 'w'})\n",
    "    plt.ylim(bottom=0)"
   ]
  },
  {
   "cell_type": "code",
   "execution_count": 20,
   "metadata": {},
   "outputs": [],
   "source": [
    "TRUE_MU = 0\n",
    "TRUE_SIGMA = 1.\n",
    "observations = np.random.normal(TRUE_MU, TRUE_SIGMA, size=1000)"
   ]
  },
  {
   "cell_type": "code",
   "execution_count": 48,
   "metadata": {},
   "outputs": [],
   "source": [
    "def exemple_intervalle_confiance_gaussienne(\n",
    "    observations,\n",
    "    n=10,\n",
    "    erreur=0.05,\n",
    "    show_moyenne=True,\n",
    "    show_moyenne_empirique=True,\n",
    "):\n",
    "    n = min(n, len(observations))\n",
    "    moyenne_empirique = observations[:n].mean()\n",
    "    # eps = norm.ppf((2-alpha)/2)/np.sqrt(n)\n",
    "    eps = ndtri(1-erreur/2)/np.sqrt(n)\n",
    "    plot_gaussienne(0, 1, show_moyenne, show_variance=False)\n",
    "    plt.annotate(text=r'-ε', ha=\"center\", va=\"bottom\", xy=(moyenne_empirique-eps, distribution_gaussienne(moyenne_empirique-eps, 0, 1)), xytext=(moyenne_empirique-eps, 0.), arrowprops={'arrowstyle': '-', 'color': 'red', 'ls': '--'}, color = 'red')\n",
    "    plt.annotate(text=r'+ε', ha=\"center\", va=\"bottom\", xy=(moyenne_empirique+eps, distribution_gaussienne(moyenne_empirique+eps, 0, 1)), xytext=(moyenne_empirique+eps, 0.), arrowprops={'arrowstyle': '-', 'color': 'red', 'ls': '--'}, color = 'red')\n",
    "    if show_moyenne_empirique:\n",
    "        moyenne_empirique = np.mean(observations[:n])\n",
    "        plt.annotate(text=r\"$\\hat{\\mu}}$\",  ha = \"center\", va=\"bottom\", xy=(moyenne_empirique, distribution_gaussienne(moyenne_empirique, 0, 1)), xytext=(moyenne_empirique, 0.), arrowprops={'arrowstyle': '-', 'color': 'red', 'ls': '--'}, color = 'red')\n",
    "    X = np.linspace(max(-2, moyenne_empirique - eps), min(moyenne_empirique + eps, 2), 1000)\n",
    "    Y = distribution_gaussienne(X, 0, 1)\n",
    "    plt.fill_between(X, Y, 0, color='red', alpha=.1)\n",
    "\n",
    "\n"
   ]
  },
  {
   "attachments": {},
   "cell_type": "markdown",
   "metadata": {},
   "source": [
    "### Résultats"
   ]
  },
  {
   "cell_type": "code",
   "execution_count": 49,
   "metadata": {},
   "outputs": [
    {
     "data": {
      "application/vnd.jupyter.widget-view+json": {
       "model_id": "2be58ab63ed54efd9ea6a680dc10a2a0",
       "version_major": 2,
       "version_minor": 0
      },
      "text/plain": [
       "interactive(children=(IntSlider(value=10, description='n', min=1), FloatSlider(value=0.05, description='erreur…"
      ]
     },
     "metadata": {},
     "output_type": "display_data"
    }
   ],
   "source": [
    "interactive(exemple_intervalle_confiance_gaussienne,\n",
    "            observations = fixed(observations),\n",
    "            n=widgets.IntSlider(min=1, max=100, step=1, value=10),\n",
    "            erreur=widgets.FloatSlider(min=0, max=0.1, step=0.01, value=0.05),\n",
    ")"
   ]
  }
 ],
 "metadata": {
  "kernelspec": {
   "display_name": "base",
   "language": "python",
   "name": "python3"
  },
  "language_info": {
   "codemirror_mode": {
    "name": "ipython",
    "version": 3
   },
   "file_extension": ".py",
   "mimetype": "text/x-python",
   "name": "python",
   "nbconvert_exporter": "python",
   "pygments_lexer": "ipython3",
   "version": "3.9.13"
  },
  "orig_nbformat": 4,
  "vscode": {
   "interpreter": {
    "hash": "009802c40a97a877ff524c56c0f93362a451c417a36147483599136e27b77cde"
   }
  }
 },
 "nbformat": 4,
 "nbformat_minor": 2
}
