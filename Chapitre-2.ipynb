{
 "cells": [
  {
   "attachments": {},
   "cell_type": "markdown",
   "metadata": {},
   "source": [
    "# Cours de Statistique: Chapitre 2 "
   ]
  },
  {
   "attachments": {},
   "cell_type": "markdown",
   "metadata": {},
   "source": [
    "Estimation"
   ]
  },
  {
   "cell_type": "code",
   "execution_count": null,
   "metadata": {},
   "outputs": [],
   "source": [
    "# Uncomment the following and run if not installed.\n",
    "# %pip install -q ipywidgets"
   ]
  },
  {
   "cell_type": "code",
   "execution_count": 2,
   "metadata": {},
   "outputs": [],
   "source": [
    "import numpy as np\n",
    "from matplotlib import pyplot as plt\n",
    "\n",
    "from ipywidgets import interactive, fixed, widgets"
   ]
  },
  {
   "attachments": {},
   "cell_type": "markdown",
   "metadata": {},
   "source": [
    "## Maximum de vraissemblance"
   ]
  },
  {
   "attachments": {},
   "cell_type": "markdown",
   "metadata": {},
   "source": [
    "### Code"
   ]
  },
  {
   "cell_type": "code",
   "execution_count": 3,
   "metadata": {},
   "outputs": [],
   "source": [
    "def distribution_bernoulli(x, theta):\n",
    "    if x == 0:\n",
    "        return 1 - theta\n",
    "    if x == 1:\n",
    "        return theta\n",
    "    return 0\n",
    "\n",
    "def distribution_gaussienne(x: float, moyenne=0., variance=1.):\n",
    "    return np.exp(-(x - moyenne)**2 / (2 * variance)) / (np.sqrt(2 * np.pi * variance))\n",
    "\n",
    "def distribution_poisson(k, theta=1.):\n",
    "    assert theta > 0\n",
    "    if k < 0:\n",
    "        return 0\n",
    "    k = int(k)\n",
    "    return np.exp(-theta) * theta**k / np.math.factorial(k)\n",
    "\n",
    "def distribution_uniforme(x: float, theta=1.):\n",
    "    if np.abs(theta) < 1e-14:\n",
    "        return 0. if np.abs(x) > 0 else 1.\n",
    "    return (1 if 0 <= x <= theta else 0) / (theta)\n",
    "\n",
    "def distribution_exponentielle(x, theta=1.):\n",
    "    assert theta > 0\n",
    "    if x < 0:\n",
    "        return 0\n",
    "    return theta * np.exp(-theta * x)"
   ]
  },
  {
   "cell_type": "code",
   "execution_count": 158,
   "metadata": {},
   "outputs": [],
   "source": [
    "def plot_gaussienne(moyenne, variance=1., show_moyenne=True, show_variance=True, style=\"b-\"):\n",
    "    X = np.linspace(-10., 10., 1000)\n",
    "    plt.plot(X, distribution_gaussienne(X, moyenne, variance), style)\n",
    "    if show_moyenne:\n",
    "        plt.annotate(text=r\"$\\mu$\",  ha = \"center\", va=\"bottom\", xy=(moyenne, distribution_gaussienne(moyenne, moyenne, variance)), xytext=(moyenne, 0.), arrowprops={'arrowstyle': '-', 'color': 'green', 'ls': '-'}, color = 'green')\n",
    "    if show_variance:\n",
    "        plt.annotate(text=\"\", xy=(moyenne - variance, distribution_gaussienne(moyenne - variance, moyenne, variance)), xytext=(moyenne + variance, distribution_gaussienne(moyenne + variance, moyenne, variance)), arrowprops={'arrowstyle': '<->', 'color': 'red', 'ls': '--'})\n",
    "        plt.text(moyenne, distribution_gaussienne(moyenne+variance, moyenne, variance), r\"$\\sigma^2$\", ha=\"center\", va=\"center\", color='red', bbox={'boxstyle': 'square', 'fc':'w','ec': 'w'})\n",
    "    plt.ylim(bottom=0)"
   ]
  },
  {
   "cell_type": "code",
   "execution_count": 162,
   "metadata": {},
   "outputs": [],
   "source": [
    "TRUE_MU = 1.3\n",
    "TRUE_SIGMA = 1.\n",
    "observations = np.random.normal(TRUE_MU, TRUE_SIGMA, size=1000)"
   ]
  },
  {
   "cell_type": "code",
   "execution_count": 174,
   "metadata": {},
   "outputs": [],
   "source": [
    "def exemple_vraissemblance_gaussienne(\n",
    "        observations,\n",
    "        n,\n",
    "        mu,\n",
    "        show_obs=True,\n",
    "        show_moyenne_empirique=False,\n",
    "        show_vraissemblance_obs=False,\n",
    "        show_true_distribution=False\n",
    "    ) -> None:\n",
    "    if show_obs:\n",
    "        plt.plot(observations[:n], np.zeros_like(observations[:n]), \"m.\")\n",
    "    plt.xlim(-5 + int(TRUE_MU),5 + int(TRUE_MU))\n",
    "    if show_moyenne_empirique:\n",
    "        moyenne_empirique = np.mean(observations[:n])\n",
    "        plt.annotate(text=r\"$\\hat{\\mu}$\",  ha = \"center\", va=\"bottom\", xy=(moyenne_empirique, distribution_gaussienne(moyenne_empirique, mu, TRUE_SIGMA)), xytext=(moyenne_empirique, 0.), arrowprops={'arrowstyle': '-', 'color': 'red', 'ls': '-'}, color = 'red')\n",
    "    if show_vraissemblance_obs:\n",
    "        L = 1\n",
    "        L_x = distribution_gaussienne(observations[:min(n, 20)], mu, TRUE_SIGMA)\n",
    "        for point, vraissemblance in zip(observations[:min(n, 20)], L_x):\n",
    "            plt.annotate(text=\"\",  ha = \"center\", va=\"bottom\", xy=(point, vraissemblance), xytext=(point, 0.), arrowprops={'arrowstyle': '-', 'color': 'm', 'ls': ':'})\n",
    "        L = L_x.prod()\n",
    "        plt.title(fr\"$L(X_1, ..., X_n, \\mu) = ${L:.3e}\")\n",
    "    plot_gaussienne(mu, show_moyenne=True, show_variance=False)\n",
    "    if show_true_distribution:\n",
    "        plot_gaussienne(TRUE_MU, TRUE_SIGMA, show_moyenne=False, show_variance=False, style=\"k--\")\n",
    "    plt.ylim(bottom=-0.04)\n",
    "    plt.show()"
   ]
  },
  {
   "attachments": {},
   "cell_type": "markdown",
   "metadata": {},
   "source": [
    "### Résultats"
   ]
  },
  {
   "cell_type": "code",
   "execution_count": 175,
   "metadata": {},
   "outputs": [
    {
     "data": {
      "application/vnd.jupyter.widget-view+json": {
       "model_id": "3a3384ac6347438b973857a70d4265a6",
       "version_major": 2,
       "version_minor": 0
      },
      "text/plain": [
       "interactive(children=(IntSlider(value=10, description='n', max=50, min=1), FloatSlider(value=0.0, description=…"
      ]
     },
     "metadata": {},
     "output_type": "display_data"
    }
   ],
   "source": [
    "interactive(exemple_vraissemblance_gaussienne,\n",
    "            observations = fixed(observations),\n",
    "            n=widgets.IntSlider(min=1, max=50, step=1, value=10),\n",
    "            mu=widgets.FloatSlider(min=-3 + int(TRUE_MU), max=3 + int(TRUE_MU), step=0.01, value=0),\n",
    ")"
   ]
  }
 ],
 "metadata": {
  "kernelspec": {
   "display_name": "base",
   "language": "python",
   "name": "python3"
  },
  "language_info": {
   "codemirror_mode": {
    "name": "ipython",
    "version": 3
   },
   "file_extension": ".py",
   "mimetype": "text/x-python",
   "name": "python",
   "nbconvert_exporter": "python",
   "pygments_lexer": "ipython3",
   "version": "3.9.13"
  },
  "orig_nbformat": 4,
  "vscode": {
   "interpreter": {
    "hash": "009802c40a97a877ff524c56c0f93362a451c417a36147483599136e27b77cde"
   }
  }
 },
 "nbformat": 4,
 "nbformat_minor": 2
}
