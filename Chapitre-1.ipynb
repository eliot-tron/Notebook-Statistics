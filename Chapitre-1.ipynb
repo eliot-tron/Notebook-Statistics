{
 "cells": [
  {
   "attachments": {},
   "cell_type": "markdown",
   "metadata": {},
   "source": [
    "# Cours de Statistique: Chapitre 1"
   ]
  },
  {
   "attachments": {},
   "cell_type": "markdown",
   "metadata": {},
   "source": [
    "Introduction et premières définitions."
   ]
  },
  {
   "cell_type": "code",
   "execution_count": 62,
   "metadata": {},
   "outputs": [],
   "source": [
    "# Uncomment the following and run if not installed.\n",
    "# %pip install -q ipywidgets"
   ]
  },
  {
   "cell_type": "code",
   "execution_count": 63,
   "metadata": {},
   "outputs": [],
   "source": [
    "import numpy as np\n",
    "from matplotlib import pyplot as plt\n",
    "\n",
    "from ipywidgets import interactive, fixed"
   ]
  },
  {
   "attachments": {},
   "cell_type": "markdown",
   "metadata": {},
   "source": [
    "## Exemples de distributions de probabilité"
   ]
  },
  {
   "attachments": {},
   "cell_type": "markdown",
   "metadata": {},
   "source": [
    "### Code"
   ]
  },
  {
   "cell_type": "code",
   "execution_count": 65,
   "metadata": {},
   "outputs": [],
   "source": [
    "def distribution_bernoulli(x, theta):\n",
    "    if x == 0:\n",
    "        return 1 - theta\n",
    "    if x == 1:\n",
    "        return theta\n",
    "    return 0\n",
    "\n",
    "def distribution_gaussienne(x: float, moyenne=0., variance=1.):\n",
    "    return np.exp(-(x - moyenne)**2 / (2 * variance)) / (np.sqrt(2 * np.pi * variance))\n",
    "\n",
    "def distribution_poisson(k, theta=1.):\n",
    "    assert theta > 0\n",
    "    if k < 0:\n",
    "        return 0\n",
    "    k = int(k)\n",
    "    return np.exp(-theta) * theta**k / np.math.factorial(k)\n",
    "\n",
    "def distribution_uniforme(x: float, theta=1.):\n",
    "    if np.abs(theta) < 1e-14:\n",
    "        return 0. if np.abs(x) > 0 else 1.\n",
    "    return (1 if 0 <= x <= theta else 0) / (theta)\n",
    "\n",
    "def distribution_exponentielle(x, theta=1.):\n",
    "    assert theta > 0\n",
    "    if x < 0:\n",
    "        return 0\n",
    "    return theta * np.exp(-theta * x)"
   ]
  },
  {
   "cell_type": "code",
   "execution_count": 74,
   "metadata": {},
   "outputs": [],
   "source": [
    "def plot_gaussienne(moyenne, variance, show_moyenne=True, show_variance=True):\n",
    "    X = np.linspace(-10., 10., 1000)\n",
    "    plt.plot(X, [distribution_gaussienne(x, moyenne, variance) for x in X], \"b-\")\n",
    "    if show_moyenne:\n",
    "        plt.annotate(text=r\"$\\mu$\",  ha = \"center\", va=\"bottom\", xy=(moyenne, distribution_gaussienne(moyenne, moyenne, variance)), xytext=(moyenne, 0.), arrowprops={'arrowstyle': '-', 'color': 'green', 'ls': '--'}, color = 'green')\n",
    "    if show_variance:\n",
    "        plt.annotate(text=\"\", xy=(moyenne - variance, distribution_gaussienne(moyenne - variance, moyenne, variance)), xytext=(moyenne + variance, distribution_gaussienne(moyenne + variance, moyenne, variance)), arrowprops={'arrowstyle': '<->', 'color': 'red', 'ls': '--'})\n",
    "        plt.text(moyenne, distribution_gaussienne(moyenne+variance, moyenne, variance), r\"$\\sigma^2$\", ha=\"center\", va=\"center\", color='red', bbox={'boxstyle': 'square', 'fc':'w','ec': 'w'})\n",
    "    plt.ylim(bottom=0)\n",
    "    plt.show()\n",
    "\n",
    "def plot_poisson(theta, show_param=True):\n",
    "    if show_param:\n",
    "        plt.annotate(text=r\"$\\theta$\", ha = \"center\", va=\"bottom\", xy=(theta, distribution_poisson(theta, theta)), xytext=(theta, 0.), arrowprops={'arrowstyle': '-', 'color': 'green', 'ls': '--'}, color = 'green')\n",
    "    X = range(0, 20)\n",
    "    plt.plot(X, [distribution_poisson(x, theta) for x in X], \"bo\")\n",
    "    plt.xticks(X)\n",
    "    plt.ylim(bottom=0)\n",
    "    plt.show()\n",
    "\n",
    "def plot_bernoulli(theta, show_param=True):\n",
    "    if show_param:\n",
    "        plt.annotate(text=r\"$\\theta$\", va= 'center', xy=(1, theta), xytext=(-1, theta), arrowprops={'arrowstyle': '-', 'color': 'green', 'ls': '--'}, color = 'green')\n",
    "    X = range(0, 2)\n",
    "    plt.plot(X, [distribution_bernoulli(x, theta) for x in X], \"bo\")\n",
    "    plt.xticks([-1, 0, 1, 2])\n",
    "    plt.ylim(0,1)\n",
    "    plt.show()\n",
    "\n",
    "def plot_uniforme(theta, show_param=True):\n",
    "    if show_param:\n",
    "        plt.annotate(text=r\"$\\theta$\", xy=(theta + 0.1, 0.5/theta), color='green')\n",
    "    X = np.linspace(-10., 10., 1000)\n",
    "    plt.plot(X, [distribution_uniforme(x, theta) for x in X], \"b-\")\n",
    "    plt.ylim(0,1)\n",
    "    plt.show()\n",
    "\n",
    "def plot_exponentielle(theta, show_param=True):\n",
    "    if show_param:\n",
    "        plt.annotate(text=r\"$\\theta$\",  ha = \"center\", va=\"bottom\", xy=(1./theta, distribution_exponentielle(1./theta, theta)), xytext=(1./theta, 0.), arrowprops={'arrowstyle': '-', 'color': 'green', 'ls': '--'}, color = 'green')\n",
    "\n",
    "    X = np.linspace(0, 10, 1000)\n",
    "    plt.plot(X, [distribution_exponentielle(x, theta) for x in X], \"b-\")\n",
    "    plt.ylim(bottom=0)\n",
    "    plt.show()"
   ]
  },
  {
   "attachments": {},
   "cell_type": "markdown",
   "metadata": {},
   "source": [
    "### Gaussienne"
   ]
  },
  {
   "attachments": {},
   "cell_type": "markdown",
   "metadata": {},
   "source": [
    "Distribution: $$ P_{(\\mu,\\sigma^2)} = \\frac{1}{\\sqrt{2\\pi\\sigma^2}} e^{-\\frac{(x-\\mu)^2}{2\\sigma^2}}dx$$ \n",
    "Usages: Bruit aléatoire"
   ]
  },
  {
   "cell_type": "code",
   "execution_count": 75,
   "metadata": {},
   "outputs": [
    {
     "data": {
      "application/vnd.jupyter.widget-view+json": {
       "model_id": "76f1f3e0649c41c9848d5e0c870a5396",
       "version_major": 2,
       "version_minor": 0
      },
      "text/plain": [
       "interactive(children=(FloatSlider(value=0.0, description='moyenne', max=5.0, min=-5.0), FloatSlider(value=5.5,…"
      ]
     },
     "metadata": {},
     "output_type": "display_data"
    }
   ],
   "source": [
    "interactive(plot_gaussienne,\n",
    "            moyenne=(-5.0, 5.0),\n",
    "            variance=(1.0, 10.0))"
   ]
  },
  {
   "attachments": {},
   "cell_type": "markdown",
   "metadata": {},
   "source": [
    "### Poisson"
   ]
  },
  {
   "attachments": {},
   "cell_type": "markdown",
   "metadata": {},
   "source": [
    "Distribution: $$P_\\theta = \\sum_{k=0}^\\infty e^{-\\theta} \\frac{\\theta^k}{k!} \\delta_k$$\n",
    "Usages: comptage du nombre d'événements dans un intervalle de temps"
   ]
  },
  {
   "cell_type": "code",
   "execution_count": 76,
   "metadata": {},
   "outputs": [
    {
     "data": {
      "application/vnd.jupyter.widget-view+json": {
       "model_id": "251ff7aeccf94c37b78b07a5621f1dea",
       "version_major": 2,
       "version_minor": 0
      },
      "text/plain": [
       "interactive(children=(FloatSlider(value=5.05, description='theta', max=10.0, min=0.1), Checkbox(value=True, de…"
      ]
     },
     "metadata": {},
     "output_type": "display_data"
    }
   ],
   "source": [
    "interactive(plot_poisson,\n",
    "            theta=(0.1, 10.0))"
   ]
  },
  {
   "attachments": {},
   "cell_type": "markdown",
   "metadata": {},
   "source": [
    "### Exponentielle"
   ]
  },
  {
   "attachments": {},
   "cell_type": "markdown",
   "metadata": {},
   "source": [
    "Distribution: $$P_\\theta = \\theta e^{-\\theta x}dx$$\n",
    "Usages: Durée de vie d'un phénomène `sans mémoire`."
   ]
  },
  {
   "cell_type": "code",
   "execution_count": 77,
   "metadata": {},
   "outputs": [
    {
     "data": {
      "application/vnd.jupyter.widget-view+json": {
       "model_id": "2bdda9fd9e654e52bc8c578ab791dd75",
       "version_major": 2,
       "version_minor": 0
      },
      "text/plain": [
       "interactive(children=(FloatSlider(value=2.5500000000000003, description='theta', max=5.0, min=0.1), Checkbox(v…"
      ]
     },
     "metadata": {},
     "output_type": "display_data"
    }
   ],
   "source": [
    "interactive(plot_exponentielle,\n",
    "            theta=(0.1, 5.0))"
   ]
  },
  {
   "attachments": {},
   "cell_type": "markdown",
   "metadata": {},
   "source": [
    "### Uniforme "
   ]
  },
  {
   "attachments": {},
   "cell_type": "markdown",
   "metadata": {},
   "source": [
    "Distribution: $$P_\\theta = \\frac{1}{\\theta} 1_{[0,\\theta]}(x)dx$$\n",
    "Usages: Phénomènes aléatoires sans préférences sur un interval."
   ]
  },
  {
   "cell_type": "code",
   "execution_count": 78,
   "metadata": {},
   "outputs": [
    {
     "data": {
      "application/vnd.jupyter.widget-view+json": {
       "model_id": "0828189ada484e25aef7c301c8ab2467",
       "version_major": 2,
       "version_minor": 0
      },
      "text/plain": [
       "interactive(children=(FloatSlider(value=4.55, description='theta', max=9.0, min=0.1), Checkbox(value=True, des…"
      ]
     },
     "metadata": {},
     "output_type": "display_data"
    }
   ],
   "source": [
    "interactive(plot_uniforme,\n",
    "            theta=(0.1, 9.0))"
   ]
  },
  {
   "attachments": {},
   "cell_type": "markdown",
   "metadata": {},
   "source": [
    "### Bernoulli\n"
   ]
  },
  {
   "cell_type": "markdown",
   "metadata": {},
   "source": [
    "Distribution: $$P_\\theta = \\theta \\delta_1 + (1-\\theta) \\delta_0$$\n",
    "Usage: Tirage d'une pièce."
   ]
  },
  {
   "cell_type": "code",
   "execution_count": 79,
   "metadata": {},
   "outputs": [
    {
     "data": {
      "application/vnd.jupyter.widget-view+json": {
       "model_id": "b6f97d0ad02e4cc1a812eba20a968cb6",
       "version_major": 2,
       "version_minor": 0
      },
      "text/plain": [
       "interactive(children=(FloatSlider(value=0.5, description='theta', max=1.0), Checkbox(value=True, description='…"
      ]
     },
     "metadata": {},
     "output_type": "display_data"
    }
   ],
   "source": [
    "interactive(plot_bernoulli,\n",
    "            theta=(0.0, 1.0))"
   ]
  },
  {
   "attachments": {},
   "cell_type": "markdown",
   "metadata": {},
   "source": [
    "## Lancé de pièce"
   ]
  },
  {
   "attachments": {},
   "cell_type": "markdown",
   "metadata": {},
   "source": [
    "### Caché"
   ]
  },
  {
   "cell_type": "code",
   "execution_count": 2,
   "metadata": {},
   "outputs": [],
   "source": [
    "p = 0.3"
   ]
  },
  {
   "attachments": {},
   "cell_type": "markdown",
   "metadata": {},
   "source": [
    "### Test"
   ]
  },
  {
   "cell_type": "code",
   "execution_count": 48,
   "metadata": {},
   "outputs": [
    {
     "data": {
      "text/plain": [
       "0"
      ]
     },
     "execution_count": 48,
     "metadata": {},
     "output_type": "execute_result"
    }
   ],
   "source": [
    "np.random.binomial(1, p=p)"
   ]
  },
  {
   "cell_type": "code",
   "execution_count": 49,
   "metadata": {},
   "outputs": [],
   "source": [
    "resultats = []"
   ]
  },
  {
   "cell_type": "code",
   "execution_count": 60,
   "metadata": {},
   "outputs": [
    {
     "name": "stdout",
     "output_type": "stream",
     "text": [
      "0\n",
      "1\n",
      "0\n",
      "0\n",
      "1\n",
      "0\n",
      "1\n",
      "0\n",
      "0\n",
      "0\n"
     ]
    }
   ],
   "source": [
    "for _ in range(10):\n",
    "    lance = np.random.binomial(1, p=p)\n",
    "    resultats.append(lance)\n",
    "    print(lance)"
   ]
  },
  {
   "cell_type": "code",
   "execution_count": 61,
   "metadata": {},
   "outputs": [
    {
     "name": "stdout",
     "output_type": "stream",
     "text": [
      "100\n",
      "Nombre de faces: 40\n",
      "Nombre de piles: 60\n"
     ]
    }
   ],
   "source": [
    "print(len(resultats))\n",
    "print(f\"Nombre de faces: {np.sum(resultats)}\\nNombre de piles: {len(resultats) - np.sum(resultats)}\")"
   ]
  }
 ],
 "metadata": {
  "kernelspec": {
   "display_name": "base",
   "language": "python",
   "name": "python3"
  },
  "language_info": {
   "codemirror_mode": {
    "name": "ipython",
    "version": 3
   },
   "file_extension": ".py",
   "mimetype": "text/x-python",
   "name": "python",
   "nbconvert_exporter": "python",
   "pygments_lexer": "ipython3",
   "version": "3.9.13 (main, Aug 25 2022, 23:26:10) \n[GCC 11.2.0]"
  },
  "orig_nbformat": 4,
  "vscode": {
   "interpreter": {
    "hash": "009802c40a97a877ff524c56c0f93362a451c417a36147483599136e27b77cde"
   }
  }
 },
 "nbformat": 4,
 "nbformat_minor": 2
}
