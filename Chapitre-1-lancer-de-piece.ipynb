{
 "cells": [
  {
   "attachments": {},
   "cell_type": "markdown",
   "metadata": {},
   "source": [
    "# Cours de Statistique: Chapitre 1"
   ]
  },
  {
   "attachments": {},
   "cell_type": "markdown",
   "metadata": {},
   "source": [
    "Introduction et premières définitions."
   ]
  },
  {
   "cell_type": "code",
   "execution_count": null,
   "metadata": {},
   "outputs": [],
   "source": [
    "# Uncomment the following and run if not installed.\n",
    "# %pip install -q ipywidgets"
   ]
  },
  {
   "cell_type": "code",
   "execution_count": null,
   "metadata": {},
   "outputs": [],
   "source": [
    "import numpy as np\n",
    "from matplotlib import pyplot as plt\n",
    "from PIL import Image\n",
    "\n",
    "from IPython.display import display"
   ]
  },
  {
   "attachments": {},
   "cell_type": "markdown",
   "metadata": {},
   "source": [
    "## Lancer de pièce"
   ]
  },
  {
   "attachments": {},
   "cell_type": "markdown",
   "metadata": {},
   "source": [
    "### Caché"
   ]
  },
  {
   "cell_type": "code",
   "execution_count": null,
   "metadata": {},
   "outputs": [],
   "source": [
    "p = 0.3"
   ]
  },
  {
   "cell_type": "code",
   "execution_count": null,
   "metadata": {},
   "outputs": [],
   "source": [
    "class cote:\n",
    "    def __init__(self, text, path, num):\n",
    "        self.image = Image.open(path)\n",
    "        self.text = text\n",
    "        self.num = num\n",
    "    \n",
    "    def __str__(self) -> str:\n",
    "        return self.text\n",
    "    \n",
    "    def __int__(self) -> int:\n",
    "        return self.num\n",
    "    \n",
    "    def display(self):\n",
    "        display(self.image)\n",
    "\n",
    "class piece:\n",
    "    def __init__(self, p):\n",
    "      self.p = p\n",
    "      self.pile = cote('pile', './ressources/pile.png', 0)\n",
    "      self.face = cote('face', './ressources/face.png', 1)\n",
    "      self.cotes = [self.pile, self.face]\n",
    "\n",
    "    def lancer(self):\n",
    "        return self.cotes[np.random.binomial(1, p=self.p)]\n",
    "\n",
    "ma_piece = piece(p)"
   ]
  },
  {
   "attachments": {},
   "cell_type": "markdown",
   "metadata": {},
   "source": [
    "### Test"
   ]
  },
  {
   "cell_type": "code",
   "execution_count": null,
   "metadata": {},
   "outputs": [],
   "source": [
    "ma_piece.lancer().display()"
   ]
  },
  {
   "cell_type": "code",
   "execution_count": null,
   "metadata": {},
   "outputs": [],
   "source": [
    "resultats = []"
   ]
  },
  {
   "cell_type": "code",
   "execution_count": null,
   "metadata": {},
   "outputs": [],
   "source": [
    "for _ in range(10):\n",
    "    lancer = ma_piece.lancer()\n",
    "    resultats.append(int(lancer))\n",
    "    print(lancer)"
   ]
  },
  {
   "cell_type": "code",
   "execution_count": null,
   "metadata": {},
   "outputs": [],
   "source": [
    "print(len(resultats))\n",
    "print(f\"Nombre de faces: {np.sum(resultats)}\\nNombre de piles: {len(resultats) - np.sum(resultats)}\")"
   ]
  }
 ],
 "metadata": {
  "kernelspec": {
   "display_name": "base",
   "language": "python",
   "name": "python3"
  },
  "language_info": {
   "codemirror_mode": {
    "name": "ipython",
    "version": 3
   },
   "file_extension": ".py",
   "mimetype": "text/x-python",
   "name": "python",
   "nbconvert_exporter": "python",
   "pygments_lexer": "ipython3",
   "version": "3.9.13"
  },
  "orig_nbformat": 4,
  "vscode": {
   "interpreter": {
    "hash": "009802c40a97a877ff524c56c0f93362a451c417a36147483599136e27b77cde"
   }
  }
 },
 "nbformat": 4,
 "nbformat_minor": 2
}
