{
 "cells": [
  {
   "cell_type": "markdown",
   "metadata": {
    "slideshow": {
     "slide_type": "slide"
    }
   },
   "source": [
    "# Cours de Statistique: Chapitre 4\n",
    "Intervalles de confiance et tests"
   ]
  },
  {
   "cell_type": "code",
   "execution_count": null,
   "metadata": {
    "slideshow": {
     "slide_type": "skip"
    }
   },
   "outputs": [],
   "source": [
    "# Uncomment the following and run if not installed.\n",
    "# %pip install -q ipywidgets"
   ]
  },
  {
   "cell_type": "code",
   "execution_count": null,
   "metadata": {
    "slideshow": {
     "slide_type": "skip"
    }
   },
   "outputs": [],
   "source": [
    "import numpy as np\n",
    "from matplotlib import pyplot as plt\n",
    "from scipy.stats import norm\n",
    "from scipy.special import ndtri\n",
    "\n",
    "from ipywidgets import interactive, fixed, widgets"
   ]
  },
  {
   "cell_type": "markdown",
   "metadata": {
    "slideshow": {
     "slide_type": "subslide"
    }
   },
   "source": [
    "## Intervalles de confiance"
   ]
  },
  {
   "cell_type": "markdown",
   "metadata": {
    "slideshow": {
     "slide_type": "skip"
    }
   },
   "source": [
    "### Code"
   ]
  },
  {
   "cell_type": "code",
   "execution_count": null,
   "metadata": {
    "slideshow": {
     "slide_type": "skip"
    }
   },
   "outputs": [],
   "source": [
    "def distribution_bernoulli(x, theta):\n",
    "    if x == 0:\n",
    "        return 1 - theta\n",
    "    if x == 1:\n",
    "        return theta\n",
    "    return 0\n",
    "\n",
    "def distribution_gaussienne(x: float, moyenne=0., variance=1.):\n",
    "    return np.exp(-(x - moyenne)**2 / (2 * variance)) / (np.sqrt(2 * np.pi * variance))\n",
    "\n",
    "def distribution_poisson(k, theta=1.):\n",
    "    assert theta > 0\n",
    "    if k < 0:\n",
    "        return 0\n",
    "    k = int(k)\n",
    "    return np.exp(-theta) * theta**k / np.math.factorial(k)\n",
    "\n",
    "def distribution_uniforme(x: float, theta=1.):\n",
    "    if np.abs(theta) < 1e-14:\n",
    "        return 0. if np.abs(x) > 0 else 1.\n",
    "    return (1 if 0 <= x <= theta else 0) / (theta)\n",
    "\n",
    "def distribution_exponentielle(x, theta=1.):\n",
    "    assert theta > 0\n",
    "    if x < 0:\n",
    "        return 0\n",
    "    return theta * np.exp(-theta * x)"
   ]
  },
  {
   "cell_type": "code",
   "execution_count": null,
   "metadata": {
    "slideshow": {
     "slide_type": "skip"
    }
   },
   "outputs": [],
   "source": [
    "def plot_gaussienne(moyenne, variance=1., show_moyenne=True, show_variance=True, style=\"b-\"):\n",
    "    X = np.linspace(moyenne - 4. * np.sqrt(variance), moyenne + 4. * np.sqrt(variance), 1000)\n",
    "    distribution = distribution_gaussienne(X, moyenne, variance)\n",
    "    plt.plot(X, distribution, style)\n",
    "    if show_moyenne:\n",
    "        plt.annotate(text=r\"$\\mu$\",  ha = \"center\", va=\"bottom\", xy=(moyenne, distribution_gaussienne(moyenne, moyenne, variance)), xytext=(moyenne, 0.), arrowprops={'arrowstyle': '-', 'color': 'green', 'ls': '-'}, color = 'green')\n",
    "    if show_variance:\n",
    "        plt.annotate(text=\"\", xy=(moyenne - variance, distribution_gaussienne(moyenne - variance, moyenne, variance)), xytext=(moyenne + variance, distribution_gaussienne(moyenne + variance, moyenne, variance)), arrowprops={'arrowstyle': '<->', 'color': 'red', 'ls': '--'})\n",
    "        plt.text(moyenne, distribution_gaussienne(moyenne+variance, moyenne, variance), r\"$2\\sigma$\", ha=\"center\", va=\"center\", color='red', bbox={'boxstyle': 'square', 'fc':'w','ec': 'w'})\n",
    "    plt.ylim(bottom=0)\n",
    "    \n",
    "    return X, distribution"
   ]
  },
  {
   "cell_type": "code",
   "execution_count": null,
   "metadata": {
    "slideshow": {
     "slide_type": "skip"
    }
   },
   "outputs": [],
   "source": [
    "TRUE_MU = 0.\n",
    "TRUE_SIGMA = 1.\n",
    "observations = np.random.normal(TRUE_MU, TRUE_SIGMA, size=1000)"
   ]
  },
  {
   "cell_type": "code",
   "execution_count": null,
   "metadata": {
    "slideshow": {
     "slide_type": "skip"
    }
   },
   "outputs": [],
   "source": [
    "def exemple_intervalle_confiance_gaussienne(\n",
    "    observations,\n",
    "    n=10,\n",
    "    erreur=0.05,\n",
    "    show_moyenne=True,\n",
    "    show_moyenne_empirique=True,\n",
    "    type: str='centre',\n",
    "):\n",
    "    n = min(n, len(observations))\n",
    "    moyenne_empirique = observations[:n].mean()\n",
    "    # eps = norm.ppf((2-alpha)/2)/np.sqrt(n)\n",
    "    X, Y = plot_gaussienne(TRUE_MU, TRUE_SIGMA, show_moyenne, show_variance=False)\n",
    "    if type.casefold() == 'centre':\n",
    "        eps = TRUE_SIGMA * ndtri(1-erreur/2)/np.sqrt(n)\n",
    "        plt.annotate(text=r'-ε', ha=\"center\", va=\"bottom\", xy=(moyenne_empirique-eps, distribution_gaussienne(moyenne_empirique-eps, TRUE_MU, TRUE_SIGMA)), xytext=(moyenne_empirique-eps, 0.), arrowprops={'arrowstyle': '-', 'color': 'red', 'ls': '--'}, color = 'red')\n",
    "        plt.annotate(text=r'+ε', ha=\"center\", va=\"bottom\", xy=(moyenne_empirique+eps, distribution_gaussienne(moyenne_empirique+eps, TRUE_MU, TRUE_SIGMA)), xytext=(moyenne_empirique+eps, 0.), arrowprops={'arrowstyle': '-', 'color': 'red', 'ls': '--'}, color = 'red')\n",
    "        # X = np.linspace(max(-2, moyenne_empirique - eps), min(moyenne_empirique + eps, 2), 1000)\n",
    "        X = X.clip(moyenne_empirique - eps, moyenne_empirique + eps)\n",
    "    elif type.casefold() == 'droite':\n",
    "        eps = TRUE_SIGMA * ndtri(1-erreur)/np.sqrt(n)\n",
    "        plt.annotate(text=r'-ε', ha=\"center\", va=\"bottom\", xy=(moyenne_empirique-eps, distribution_gaussienne(moyenne_empirique-eps, TRUE_MU, TRUE_SIGMA)), xytext=(moyenne_empirique-eps, 0.), arrowprops={'arrowstyle': '-', 'color': 'red', 'ls': '--'}, color = 'red')\n",
    "        X = np.maximum(X, moyenne_empirique - eps)\n",
    "    elif type.casefold() == 'gauche':\n",
    "        eps = TRUE_SIGMA * ndtri(1-erreur)/np.sqrt(n)\n",
    "        plt.annotate(text=r'+ε', ha=\"center\", va=\"bottom\", xy=(moyenne_empirique+eps, distribution_gaussienne(moyenne_empirique+eps, TRUE_MU, TRUE_SIGMA)), xytext=(moyenne_empirique+eps, 0.), arrowprops={'arrowstyle': '-', 'color': 'red', 'ls': '--'}, color = 'red')\n",
    "        X = np.minimum(X, moyenne_empirique + eps)\n",
    "    plt.fill_between(X, Y, 0, color='red', alpha=.1)\n",
    "    if show_moyenne_empirique:\n",
    "        moyenne_empirique = np.mean(observations[:n])\n",
    "        plt.annotate(text=r\"$\\hat{\\mu}}$\",  ha = \"center\", va=\"bottom\", xy=(moyenne_empirique, distribution_gaussienne(moyenne_empirique, TRUE_MU, TRUE_SIGMA)), xytext=(moyenne_empirique, 0.), arrowprops={'arrowstyle': '-', 'color': 'red', 'ls': '--'}, color = 'red')\n",
    "\n",
    "\n"
   ]
  },
  {
   "cell_type": "markdown",
   "metadata": {
    "slideshow": {
     "slide_type": "slide"
    }
   },
   "source": [
    "### Résultats"
   ]
  },
  {
   "cell_type": "code",
   "execution_count": null,
   "metadata": {
    "slideshow": {
     "slide_type": "subslide"
    }
   },
   "outputs": [],
   "source": [
    "interactive(exemple_intervalle_confiance_gaussienne,\n",
    "            observations = fixed(observations),\n",
    "            n=widgets.IntSlider(min=1, max=100, step=1, value=10),\n",
    "            erreur=widgets.FloatSlider(min=0, max=0.1, step=0.01, value=0.05),\n",
    "            type=widgets.Dropdown(options=['centre', 'gauche', 'droite'], description='Type:'),\n",
    ")"
   ]
  },
  {
   "cell_type": "markdown",
   "metadata": {
    "slideshow": {
     "slide_type": "slide"
    }
   },
   "source": [
    "## Tests Statistiques"
   ]
  },
  {
   "cell_type": "code",
   "execution_count": null,
   "metadata": {
    "slideshow": {
     "slide_type": "subslide"
    }
   },
   "outputs": [],
   "source": [
    "MU0 = 0.\n",
    "SIGMA0 = 1.\n",
    "MU1 = 2\n",
    "SIGMA1 = 1.\n",
    "observations = np.random.normal(MU0, SIGMA0, size=1000)"
   ]
  },
  {
   "cell_type": "code",
   "execution_count": null,
   "metadata": {
    "slideshow": {
     "slide_type": "skip"
    }
   },
   "outputs": [],
   "source": [
    "def exemple_test_gaussienne(\n",
    "    observations,\n",
    "    n=10,\n",
    "    niveau=0.05,\n",
    "    show_moyenne_empirique=True,\n",
    "    show_obs=True,\n",
    "    show_seuil=True,\n",
    "    risque: str='première espèce',\n",
    "    show_vraissemblance: int=None,\n",
    "):\n",
    "    n = min(n, len(observations))\n",
    "    moyenne_empirique = observations[:n].mean()\n",
    "    # variance_empirique = observations[:n].var()\n",
    "    # eps = norm.ppf((2-alpha)/2)/np.sqrt(n)\n",
    "    X0, Y0 = plot_gaussienne(MU0, SIGMA0, False, show_variance=False)\n",
    "    X1, Y1 = plot_gaussienne(MU1, SIGMA1, False, show_variance=False, style='g-')\n",
    "    max_Y_value = max(Y0.max(), Y1.max())\n",
    "    seuil = SIGMA0 * ndtri(1 - niveau) / np.sqrt(n)\n",
    "    if show_seuil:\n",
    "        plt.annotate(text=r'$s + \\mu_0$', ha=\"center\", va=\"top\", xy=((seuil + MU0), max_Y_value), xytext=((seuil + MU0), 0. - 0.01), arrowprops={'arrowstyle': '-', 'color': 'red', 'ls': '-'}, color = 'red')\n",
    "        if risque.casefold() == 'première espèce':\n",
    "            # plt.annotate(text=r's', ha=\"center\", va=\"top\", xy=(np.sqrt(n) * seuil, ), xytext=(seuil, 0. - 0.01), arrowprops={'arrowstyle': '-', 'color': 'red', 'ls': '-'}, color = 'red')\n",
    "            plt.fill_between(X0, Y0, 0, X0 - MU0 >= np.sqrt(n) * seuil, color='red', alpha=.1)\n",
    "        elif risque.casefold() == 'seconde espèce':\n",
    "            plt.fill_between(X1, Y1, 0, X1 - MU1 <= np.sqrt(n) * (seuil + MU0 - MU1), color='red', alpha=.1)\n",
    "        elif risque.casefold() == 'puissance':\n",
    "            plt.fill_between(X1, Y1, 0, X1 - MU1 >= np.sqrt(n) * (seuil + MU0 - MU1), color='red', alpha=.1)\n",
    "    if show_moyenne_empirique:\n",
    "        moyenne_empirique = np.mean(observations[:n])\n",
    "        plt.annotate(text=r\"$\\hat{\\mu}}$\",  ha = \"center\", va=\"bottom\", xy=(moyenne_empirique, distribution_gaussienne(moyenne_empirique, MU0, SIGMA0)), xytext=(moyenne_empirique, 0.), arrowprops={'arrowstyle': '-', 'color': 'm', 'ls': '--'}, color = 'm')\n",
    "    if show_obs:\n",
    "        plt.plot(observations[:n], np.zeros_like(observations[:n]), \"m.\")\n",
    "        if show_vraissemblance == 0:\n",
    "            L = 1\n",
    "            L_x = distribution_gaussienne(observations[:min(n, 20)], MU0, SIGMA0)\n",
    "            for point, vraissemblance in zip(observations[:min(n, 20)], L_x):\n",
    "                plt.annotate(text=\"\",  ha = \"center\", va=\"bottom\", xy=(point, vraissemblance), xytext=(point, 0.), arrowprops={'arrowstyle': '-', 'color': 'm', 'ls': ':'})\n",
    "            L = L_x.prod()\n",
    "            plt.title(fr\"$L(X_1, ..., X_n, \\mu_0) = ${L:.3e}\")\n",
    "        if show_vraissemblance == 1:\n",
    "            L = 1\n",
    "            L_x = distribution_gaussienne(observations[:min(n, 20)], MU1, SIGMA1)\n",
    "            for point, vraissemblance in zip(observations[:min(n, 20)], L_x):\n",
    "                plt.annotate(text=\"\",  ha = \"center\", va=\"bottom\", xy=(point, vraissemblance), xytext=(point, 0.), arrowprops={'arrowstyle': '-', 'color': 'm', 'ls': ':'})\n",
    "            L = L_x.prod()\n",
    "            plt.title(fr\"$L(X_1, ..., X_n, \\mu_1) = ${L:.3e}\")\n",
    "    plt.legend([r'H_0', r'H_1'])\n",
    "\n"
   ]
  },
  {
   "cell_type": "markdown",
   "metadata": {
    "slideshow": {
     "slide_type": "slide"
    }
   },
   "source": [
    "Resultats"
   ]
  },
  {
   "cell_type": "code",
   "execution_count": null,
   "metadata": {
    "slideshow": {
     "slide_type": "subslide"
    }
   },
   "outputs": [],
   "source": [
    "interactive(exemple_test_gaussienne,\n",
    "            observations = fixed(observations),\n",
    "            n=widgets.IntSlider(min=1, max=100, step=1, value=10),\n",
    "            niveau=widgets.FloatSlider(min=0, max=0.1, step=0.01, value=0.05),\n",
    "            risque=widgets.Dropdown(options=['première espèce', 'seconde espèce', 'puissance'], description='Risque:'),\n",
    "            show_vraissemblance=widgets.Dropdown(options=[None, 0, 1], description='Vraissemblance:'),\n",
    ")"
   ]
  },
  {
   "cell_type": "code",
   "execution_count": null,
   "metadata": {
    "slideshow": {
     "slide_type": "skip"
    }
   },
   "outputs": [],
   "source": [
    "norm.cdf(norm.ppf(1-0.05) - np.sqrt(3) * MU1)"
   ]
  }
 ],
 "metadata": {
  "celltoolbar": "Diaporama",
  "kernelspec": {
   "display_name": "Python 3 (ipykernel)",
   "language": "python",
   "name": "python3"
  },
  "language_info": {
   "codemirror_mode": {
    "name": "ipython",
    "version": 3
   },
   "file_extension": ".py",
   "mimetype": "text/x-python",
   "name": "python",
   "nbconvert_exporter": "python",
   "pygments_lexer": "ipython3",
   "version": "3.9.13"
  },
  "vscode": {
   "interpreter": {
    "hash": "009802c40a97a877ff524c56c0f93362a451c417a36147483599136e27b77cde"
   }
  }
 },
 "nbformat": 4,
 "nbformat_minor": 4
}
